{
 "cells": [
  {
   "cell_type": "code",
   "execution_count": 1,
   "metadata": {},
   "outputs": [
    {
     "ename": "NameError",
     "evalue": "name 'pd' is not defined",
     "output_type": "error",
     "traceback": [
      "\u001b[0;31m\u001b[0m",
      "\u001b[0;31mNameError\u001b[0mTraceback (most recent call last)",
      "\u001b[0;32m<ipython-input-1-1532d2e5c16d>\u001b[0m in \u001b[0;36m<module>\u001b[0;34m\u001b[0m\n\u001b[0;32m----> 1\u001b[0;31m \u001b[0mdf\u001b[0m \u001b[0;34m=\u001b[0m \u001b[0mpd\u001b[0m\u001b[0;34m.\u001b[0m\u001b[0mread_json\u001b[0m\u001b[0;34m(\u001b[0m\u001b[0;34m'../input/cat-and-dog-breeds-parameters/rating.json'\u001b[0m\u001b[0;34m)\u001b[0m\u001b[0;34m\u001b[0m\u001b[0m\n\u001b[0m\u001b[1;32m      2\u001b[0m \u001b[0mcat_df\u001b[0m \u001b[0;34m=\u001b[0m \u001b[0mdf\u001b[0m\u001b[0;34m.\u001b[0m\u001b[0mcat_breeds\u001b[0m\u001b[0;34m.\u001b[0m\u001b[0mdropna\u001b[0m\u001b[0;34m(\u001b[0m\u001b[0;36m0\u001b[0m\u001b[0;34m)\u001b[0m\u001b[0;34m.\u001b[0m\u001b[0mreset_index\u001b[0m\u001b[0;34m(\u001b[0m\u001b[0;34m)\u001b[0m\u001b[0;34m.\u001b[0m\u001b[0mrename\u001b[0m\u001b[0;34m(\u001b[0m\u001b[0mcolumns\u001b[0m\u001b[0;34m=\u001b[0m\u001b[0;34m{\u001b[0m\u001b[0;34m'index'\u001b[0m\u001b[0;34m:\u001b[0m \u001b[0;34m'BreedName'\u001b[0m\u001b[0;34m}\u001b[0m\u001b[0;34m)\u001b[0m\u001b[0;34m\u001b[0m\u001b[0m\n\u001b[1;32m      3\u001b[0m \u001b[0mdog_df\u001b[0m \u001b[0;34m=\u001b[0m \u001b[0mdf\u001b[0m\u001b[0;34m.\u001b[0m\u001b[0mdog_breeds\u001b[0m\u001b[0;34m.\u001b[0m\u001b[0mdropna\u001b[0m\u001b[0;34m(\u001b[0m\u001b[0;36m0\u001b[0m\u001b[0;34m)\u001b[0m\u001b[0;34m.\u001b[0m\u001b[0mreset_index\u001b[0m\u001b[0;34m(\u001b[0m\u001b[0;34m)\u001b[0m\u001b[0;34m.\u001b[0m\u001b[0mrename\u001b[0m\u001b[0;34m(\u001b[0m\u001b[0mcolumns\u001b[0m\u001b[0;34m=\u001b[0m\u001b[0;34m{\u001b[0m\u001b[0;34m'index'\u001b[0m\u001b[0;34m:\u001b[0m \u001b[0;34m'BreedName'\u001b[0m\u001b[0;34m}\u001b[0m\u001b[0;34m)\u001b[0m\u001b[0;34m\u001b[0m\u001b[0m\n\u001b[1;32m      4\u001b[0m \u001b[0;34m\u001b[0m\u001b[0m\n\u001b[1;32m      5\u001b[0m \u001b[0mcat\u001b[0m \u001b[0;34m=\u001b[0m \u001b[0mcat_df\u001b[0m\u001b[0;34m[\u001b[0m\u001b[0;34m'cat_breeds'\u001b[0m\u001b[0;34m]\u001b[0m\u001b[0;34m.\u001b[0m\u001b[0mapply\u001b[0m\u001b[0;34m(\u001b[0m\u001b[0;32mlambda\u001b[0m \u001b[0mx\u001b[0m\u001b[0;34m:\u001b[0m \u001b[0mpd\u001b[0m\u001b[0;34m.\u001b[0m\u001b[0mSeries\u001b[0m\u001b[0;34m(\u001b[0m\u001b[0mx\u001b[0m\u001b[0;34m)\u001b[0m\u001b[0;34m)\u001b[0m\u001b[0;34m\u001b[0m\u001b[0m\n",
      "\u001b[0;31mNameError\u001b[0m: name 'pd' is not defined"
     ]
    }
   ],
   "source": [
    "df = pd.read_json('../input/cat-and-dog-breeds-parameters/rating.json')\n",
    "cat_df = df.cat_breeds.dropna(0).reset_index().rename(columns={'index': 'BreedName'})\n",
    "dog_df = df.dog_breeds.dropna(0).reset_index().rename(columns={'index': 'BreedName'})\n",
    "\n",
    "cat = cat_df['cat_breeds'].apply(lambda x: pd.Series(x))\n",
    "cat_df = pd.concat([cat_df, cat], axis=1).drop(['cat_breeds'], axis=1)\n",
    "dog = dog_df['dog_breeds'].apply(lambda x: pd.Series(x))\n",
    "dog_df = pd.concat([dog_df, cat], axis=1).drop(['dog_breeds'], axis=1)\n",
    "\n",
    "df = pd.concat([dog_df, cat_df])\n",
    "df.BreedName.replace(\n",
    "    {\n",
    "        'Siamese Cat': 'Siamese',\n",
    "        'Chinese Crested': 'Chinese Crested Dog',\n",
    "        'Australian Cattle Dog': 'Australian Cattle Dog/Blue Heeler',\n",
    "        'Yorkshire Terrier': 'Yorkshire Terrier Yorkie',\n",
    "        'Pembroke Welsh Corgi': 'Welsh Corgi',\n",
    "        'Sphynx': 'Sphynx (hairless cat)',\n",
    "        'Plott': 'Plott Hound',\n",
    "        'Korean Jindo Dog': 'Jindo',\n",
    "        'Anatolian Shepherd Dog': 'Anatolian Shepherd',\n",
    "        'Belgian Malinois': 'Belgian Shepherd Malinois',\n",
    "        'Belgian Sheepdog': 'Belgian Shepherd Dog Sheepdog',\n",
    "        'Belgian Tervuren': 'Belgian Shepherd Tervuren',\n",
    "        'Bengal Cats': 'Bengal',\n",
    "        'Bouvier des Flandres': 'Bouvier des Flanders',\n",
    "        'Brittany': 'Brittany Spaniel',\n",
    "        'Caucasian Shepherd Dog': 'Caucasian Sheepdog (Caucasian Ovtcharka)',\n",
    "        'Dandie Dinmont Terrier': 'Dandi Dinmont Terrier',\n",
    "        'Bulldog': 'English Bulldog',\n",
    "        'American English Coonhound': 'English Coonhound',\n",
    "        'Small Munsterlander Pointer': 'Munsterlander',\n",
    "        'Entlebucher Mountain Dog': 'Entlebucher',\n",
    "        'Exotic': 'Exotic Shorthair',\n",
    "        'Flat-Coated Retriever': 'Flat-coated Retriever',\n",
    "        'English Foxhound': 'Foxhound',\n",
    "        'Alaskan Klee Kai': 'Klee Kai',\n",
    "        'Newfoundland': 'Newfoundland Dog',\n",
    "        'Norwegian Forest': 'Norwegian Forest Cat',\n",
    "        'Nova Scotia Duck Tolling Retriever': 'Nova Scotia Duck-Tolling Retriever',\n",
    "        'American Pit Bull Terrier': 'Pit Bull Terrier',\n",
    "        'Ragdoll Cats': 'Ragdoll',\n",
    "        'Standard Schnauzer': 'Schnauzer',\n",
    "        'Scottish Terrier': 'Scottish Terrier Scottie',\n",
    "        'Chinese Shar-Pei': 'Shar Pei',\n",
    "        'Shetland Sheepdog': 'Shetland Sheepdog Sheltie',\n",
    "        'West Highland White Terrier': 'West Highland White Terrier Westie',\n",
    "        'Soft Coated Wheaten Terrier': 'Wheaten Terrier',\n",
    "        'Wirehaired Pointing Griffon': 'Wire-haired Pointing Griffon',\n",
    "        'Xoloitzcuintli': 'Wirehaired Terrier',\n",
    "        'Cane Corso': 'Cane Corso Mastiff',\n",
    "        'Havana Brown': 'Havana',\n",
    "    }, inplace=True\n",
    ")"
   ]
  },
  {
   "cell_type": "code",
   "execution_count": null,
   "metadata": {},
   "outputs": [],
   "source": [
    "b = pd.read_csv(\"../input/petfinder-adoption-prediction/breed_labels.csv\")\n",
    "list(b.BreedName)"
   ]
  },
  {
   "cell_type": "code",
   "execution_count": null,
   "metadata": {},
   "outputs": [],
   "source": [
    "set(list(df.BreedName)) - set(b.BreedName)"
   ]
  },
  {
   "cell_type": "code",
   "execution_count": null,
   "metadata": {},
   "outputs": [],
   "source": [
    "set(b.BreedName) - set(list(df.BreedName))"
   ]
  },
  {
   "cell_type": "code",
   "execution_count": null,
   "metadata": {},
   "outputs": [],
   "source": [
    "len(set(b.BreedName) - set(list(df.BreedName))), len(b)"
   ]
  },
  {
   "cell_type": "code",
   "execution_count": null,
   "metadata": {},
   "outputs": [],
   "source": []
  }
 ],
 "metadata": {
  "kernelspec": {
   "display_name": "Python 3",
   "language": "python",
   "name": "python3"
  },
  "language_info": {
   "codemirror_mode": {
    "name": "ipython",
    "version": 3
   },
   "file_extension": ".py",
   "mimetype": "text/x-python",
   "name": "python",
   "nbconvert_exporter": "python",
   "pygments_lexer": "ipython3",
   "version": "3.6.3"
  }
 },
 "nbformat": 4,
 "nbformat_minor": 2
}
