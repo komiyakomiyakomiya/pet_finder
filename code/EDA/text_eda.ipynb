{
 "cells": [
  {
   "cell_type": "code",
   "execution_count": 1,
   "metadata": {},
   "outputs": [],
   "source": [
    "import pandas as pd"
   ]
  },
  {
   "cell_type": "code",
   "execution_count": 2,
   "metadata": {},
   "outputs": [
    {
     "name": "stdout",
     "output_type": "stream",
     "text": [
      "14993 3948\n"
     ]
    }
   ],
   "source": [
    "df = pd.read_csv(\"../input/train/train.csv\")\n",
    "df_test = pd.read_csv(\"../input/test/test.csv\")\n",
    "print(len(df), len(df_test))"
   ]
  },
  {
   "cell_type": "code",
   "execution_count": 10,
   "metadata": {
    "scrolled": false
   },
   "outputs": [
    {
     "name": "stdout",
     "output_type": "stream",
     "text": [
      "I just found it alone yesterday near my apartment. It was shaking so I had to bring it home to provide temporary care.\n",
      "\n",
      "Hi Coco is a rescued puppy from the streets. If you would like to adopt her pls contact me. She is very active and is very friendly with other dogs.\n",
      "\n",
      "Kittens found living at restaurant, with sibling fostering until we find a home for them. See mate as Samantha on petfinder. Uncertain of sex at this time, will pay fee for neuter or spay if you wish to adopt this cat, Pre-paid with vet at the time of adoption. Please contact Mel at for details about kitten.\n",
      "\n",
      "*** Looking for someone who really love and adore cats....And someone can share their love and spare a time for him *** *** Own Pick up / Collection : Call To Make Arrangement *** *** Must adopt 2 of them, for the play together *** Interested Please Call : (Emy)\n",
      "\n",
      "Chanelle found a home!\n",
      "\n",
      "--------\n",
      "anyone within the area of ipoh or taiping who interested to adopt my cat can contact my father at this number (mazuvil)or can just email me. currently bulat is at my hometown at perak but anyone outside the area still want to adopt can travel there to my hometown.there is a lot of cats in my house rite now..i think i should let one of them go to a better owner who can give better attention to him.\n",
      "\n",
      "healthy and active, feisty kitten found in neighbours' garden. Not sure of sex.\n",
      "\n",
      "For serious adopter, please do sms or call for more details, thanks!\n",
      "\n",
      "Kali is a super playful kitten who is on the go the minute she wakes up. She is very quiet and only meows very rarely. She likes to cuddle when she is sleepy and also when she wakes up from a nap. As long as she has her toys, she keeps herself active and busy during the day. Would recommend you spend at least half an hour every night to play with her as it is her normal routine now. Would recommend that you house her alone as a single cat or with another kitten. She has had her second vaccination and deworming and needs another one next month. Serious adopters only please. Looking for a good forever home for Kali. For more info/photos please whatsapp\n",
      "\n",
      "Hi Pet Lovers! This is my first posting and I need help! 3 months ago we befriended a mother stray cat with 3 kittens in our area and we 'adopted' them but they come and go as they please. 2 months ago the mother gave birth to a litter of 7 cute kittens and we have been taking care of the mother and the kittens ever since in our home...in the ground floor bathroom! Some of the kittens look half-persian with long hair,evident also from the earlier stray batch we adopted. Looking for good caring homes...\n",
      "\n",
      "--------\n",
      "Nibble is a 3+ month old ball of cuteness. He is energetic and playful. I rescued a couple of cats a few months ago but could not get them neutered in time as the clinic was fully scheduled. The result was this little kitty. I do not have enough space and funds to care for more cats in my household. Looking for responsible people to take over Nibble's care.\n",
      "\n",
      "Good guard dog, very alert, active, obedience waiting for her good master, plz call or sms for more details if you really get interested, thanks!!\n",
      "\n",
      "This handsome yet cute boy is up for adoption. He is the most playful pal we've seen in our puppies. He loves to nibble on shoelaces , Chase you at such a young age. Imagine what a cute brat he will be when he grows. We are looking for a loving home for Hunter , one that will take care of him and give him the love that he needs. Please call urgently if you would like to adopt this cutie.\n",
      "\n",
      "This is a stray kitten that came to my house. Have been feeding it, but cannot keep it.\n",
      "\n",
      "Peanut was an abused puppy until he was rescued. He was very scared of people but now he is a very happy and active puppy! He is a really loving puppy now. (: Lester Jenny Will you adopt him? ================================================== Adopters are required to vaccinate and neuter them. ==================================================\n",
      "\n",
      "--------\n",
      "Their pregnant mother was dumped by her irresponsible owner at the roadside near some shops in Subang Jaya. Gave birth to them at the roadside. They are all healthy and adorable puppies. Already dewormed, vaccinated and ready to go to a home. No tying or caging for long hours as guard dogs. However, it is acceptable to cage or tie for precautionary purposes. Interested to adopt pls call me.\n",
      "\n",
      "Siu Pak just give birth on 13/6/10 to 6puppies. Interested pls call or sms me. Left 2female puppies on 2/7/10\n",
      "\n",
      "to be spayed on /12 adorable & friendly\n",
      "\n",
      "healthy and active , skinny and tall, as the mother (doberman) fully vaccinated , dewormed. Authorities not allowed have more than 1 dog at home, they dont issue license .\n",
      "\n",
      "Benji and his sister Kimi are a handsome pair of shitzu cross. Both have cute shaggy face, with brown patches over their white body. Very manja and need lots of attention and love. Only as indoor pets and no caging.\n",
      "\n",
      "--------\n",
      "Very manja and gentle stray cat found, we would really like to find a home for it because we cannot keep her for ourselves for long. Has a very cute high pitch but soft meow. Please contact me if you would be interested in adopting.\n",
      "\n",
      "We moved out of our apartment to a landed home and there were many friendly strays in the neighbourhood. My grandma's neighbour was moving homes and was looking for a home for their pet.I pleaded with my mom to let us adopt him and he's fun-loving, he plays football and is a great goalie yet a loyal guardog. Now we are moving abroad and Max has no home.\n",
      "\n",
      "shes active... she can obey wht command that u told her.. example shakeshand . sleep and eat .. command in english n tamil :).. she will bark if thr suspicius ppl... good for guard act like a male dog..she will sleept in mattres or cradle..whn she eat u can even touch her...we let her because no time to care she... so anyybody intrested to addopt plss call to.. im Mr.Tom..thx petfinder..\n",
      "\n",
      "Birth Date: Oct 30th Kitty 1, Melly -Female Sangat comel and vokal. Kitty 2, Tootsie - Male Badan putih, tapi ekor hitam and telinga kekuning-kuningan, macam kucing 3 color. Kitty 3, Bo -Male Corak badan 3 tompok, he is one of the most quite and lightest kitty of the litter tapi jantan. Kitty 4, Michii - Female Macam abang kembar, she is very subtle and sweet, have 1 big spot behind her back and 1 super cute spot belakang telinga. Kitty 5, Missy - Female. She is very curious and adventurous. Very lovable, with sweet voice !\n",
      "\n",
      "Three puppies abandoned on the street, picked up and fed properly.Now active,healthy and cute.\n",
      "\n",
      "--------\n"
     ]
    }
   ],
   "source": [
    "for a in range(5):\n",
    "    dfs = df[df[\"AdoptionSpeed\"] == a]\n",
    "    for i, text in enumerate(dfs[\"Description\"].values):\n",
    "        if i == 5:\n",
    "            break\n",
    "        print(text)    \n",
    "        print()\n",
    "    print(\"--------\")"
   ]
  },
  {
   "cell_type": "code",
   "execution_count": 7,
   "metadata": {},
   "outputs": [
    {
     "name": "stdout",
     "output_type": "stream",
     "text": [
      "Puppy is calm for a young dog, but he becomes very cheerful among people. He likes being hugged and carried.\n",
      "\n",
      "Urgently seeking adoption. Please contact for further information.\n",
      "\n",
      "Snowball... doesn't look so good (she is healthy)... a bit cranky but still... she is for adoption... She is actually a very manja and gentle cat. May be she doesn't like her photo to be taken...\n",
      "\n",
      "Malibu: Female, Local Mix, 4-5 months, vaccinated and spayed. Striking features with faded beige fur and jet-yellow eyes. Naturally curious explorer, immediately taken to human interaction and loves to play around. Come and meet our animals for adoption at Selangor (Tues - Sun, 10am - 4pm) and fall in love! www.spca.org.my\n",
      "\n",
      "LALA! That's my name. I'm a 6 month old girl dog, fully vaccinated and ready to go home! I'm slightly shy, I need an owner who will be patient in earning my trust. \n",
      "\n"
     ]
    }
   ],
   "source": [
    "for i, text in enumerate(df_test[\"Description\"].values):\n",
    "    if i == 5:\n",
    "        break\n",
    "    print(text)    \n",
    "    print()"
   ]
  },
  {
   "cell_type": "code",
   "execution_count": null,
   "metadata": {},
   "outputs": [],
   "source": [
    "Chanelle found a home!->0\n",
    "13/6/10->3"
   ]
  },
  {
   "cell_type": "code",
   "execution_count": 3,
   "metadata": {
    "collapsed": true
   },
   "outputs": [
    {
     "data": {
      "text/plain": [
       "0        Nibble is a 3+ month old ball of cuteness. He ...\n",
       "1        I just found it alone yesterday near my apartm...\n",
       "2        Their pregnant mother was dumped by her irresp...\n",
       "3        Good guard dog, very alert, active, obedience ...\n",
       "4        This handsome yet cute boy is up for adoption....\n",
       "5        This is a stray kitten that came to my house. ...\n",
       "6        anyone within the area of ipoh or taiping who ...\n",
       "7        Siu Pak just give birth on 13/6/10 to 6puppies...\n",
       "8        healthy and active, feisty kitten found in nei...\n",
       "9        Very manja and gentle stray cat found, we woul...\n",
       "10       For serious adopter, please do sms or call for...\n",
       "11       Kali is a super playful kitten who is on the g...\n",
       "12       Peanut was an abused puppy until he was rescue...\n",
       "13       Hi Pet Lovers! This is my first posting and I ...\n",
       "14       Lost Dog Found (Bandar Menjalara, Kepong／Taman...\n",
       "15       We moved out of our apartment to a landed home...\n",
       "16                 to be spayed on /12 adorable & friendly\n",
       "17       shes active... she can obey wht command that u...\n",
       "18       This cutie dumped by it's owner at the market ...\n",
       "19       Birth Date: Oct 30th Kitty 1, Melly -Female Sa...\n",
       "20       Godiva was rescued in Serdang residential area...\n",
       "21       Three puppies abandoned on the street, picked ...\n",
       "22       My cats name is Kenit, Kenot,Owen, Keyad, Manj...\n",
       "23       Donut is a friendly doggie and very domesticat...\n",
       "24       hello cikenets fans, i just wanna inform that ...\n",
       "25       Garfield is a very large cat. Needs daily groo...\n",
       "26       healthy toilet trained cute easy to look after...\n",
       "27       Just saved this kitten from the street, but i ...\n",
       "28       healthy and active , skinny and tall, as the m...\n",
       "29       This kitten found at the roadside. Stay there ...\n",
       "                               ...                        \n",
       "14963    Pls adopt this cat, mix maincoone, so active.....\n",
       "14964    He's lovely, calm, friendly, quiet, sweet, int...\n",
       "14965    Very sweet (hence the name) and curious about ...\n",
       "14966    stray kitten together with 4 other siblings. n...\n",
       "14967    Doremon is a very LOVING, HEALTHY, PLAYFUL AND...\n",
       "14968    Can anyone give these cute kittens a loving an...\n",
       "14969    Found this cat near my office few months ago w...\n",
       "14970    One stray dog came to my house and gave birth ...\n",
       "14971    Omari is a well behaved house cat with soft fl...\n",
       "14972    kofi's clever, cute, and compact.As a testamen...\n",
       "14973                                         For Adoption\n",
       "14974    It is my home away dogs born. Dog mother to ta...\n",
       "14975    She was hand raise since she was 2 days old. S...\n",
       "14976    hey there 2 ekor kucing yang sudah lama dibela...\n",
       "14977    Very friendly, close to human, could be good f...\n",
       "14978    These puppies were rescued from factory area.....\n",
       "14979    SambaBoy makes a good companion dog. Needs lov...\n",
       "14980    I found her by the side of the road and too he...\n",
       "14981    Patch is for free adoption. If you want to ado...\n",
       "14982    Homeless souls awaiting for a good home..We do...\n",
       "14983    He is very intelligent and cute. Fluffy and lo...\n",
       "14984                                abandoned,but healthy\n",
       "14985    been at my place for a while..am hoping to fin...\n",
       "14986    1 month old white + grey kitten for adoption n...\n",
       "14987                                                ooooo\n",
       "14988    I have 4 kittens that need to be adopt urgentl...\n",
       "14989    Serato(female cat- 3 color) is 4 years old and...\n",
       "14990    Mix breed, good temperament kittens. Love huma...\n",
       "14991    she is very shy..adventures and independent..s...\n",
       "14992    Fili just loves laying around and also loves b...\n",
       "Name: Description, Length: 14993, dtype: object"
      ]
     },
     "execution_count": 3,
     "metadata": {},
     "output_type": "execute_result"
    }
   ],
   "source": [
    "df[\"Description\"]"
   ]
  },
  {
   "cell_type": "code",
   "execution_count": 16,
   "metadata": {},
   "outputs": [
    {
     "data": {
      "text/html": [
       "<script>requirejs.config({paths: { 'plotly': ['https://cdn.plot.ly/plotly-latest.min']},});if(!window.Plotly) {{require(['plotly'],function(plotly) {window.Plotly=plotly;});}}</script>"
      ],
      "text/vnd.plotly.v1+html": [
       "<script>requirejs.config({paths: { 'plotly': ['https://cdn.plot.ly/plotly-latest.min']},});if(!window.Plotly) {{require(['plotly'],function(plotly) {window.Plotly=plotly;});}}</script>"
      ]
     },
     "metadata": {},
     "output_type": "display_data"
    },
    {
     "name": "stdout",
     "output_type": "stream",
     "text": [
      "This is the format of your plot grid:\n",
      "[ (1,1) x1,y1 ]  [ (1,2) x2,y2 ]\n",
      "\n"
     ]
    },
    {
     "data": {
      "application/vnd.plotly.v1+json": {
       "data": [
        {
         "marker": {
          "color": "blue"
         },
         "orientation": "h",
         "showlegend": false,
         "type": "bar",
         "x": [
          1310,
          1321,
          1377,
          1389,
          1395,
          1397,
          1402,
          1409,
          1461,
          1465,
          1517,
          1522,
          1545,
          1580,
          1602,
          1627,
          1659,
          1667,
          1673,
          1692,
          1705,
          1705,
          1755,
          1795,
          1838,
          1933,
          2019,
          2038,
          2047,
          2132,
          2165,
          2185,
          2268,
          2269,
          2295,
          2316,
          2335,
          2606,
          2705,
          2738,
          2738,
          2830,
          2831,
          2870,
          2884,
          2893,
          2917,
          3428,
          3782,
          5386
         ],
         "xaxis": "x1",
         "y": [
          "time",
          "house",
          "around",
          "healthy",
          "adopter",
          "friendly",
          "cats",
          "puppies",
          "cute",
          "active",
          "keep",
          "kittens",
          "find",
          "old",
          "playful",
          "owner",
          "months",
          "need",
          "must",
          "3",
          "little",
          "puppy",
          "loves",
          "kitten",
          "would",
          "interested",
          "new",
          "rescued",
          "like",
          "one",
          "take",
          "care",
          "love",
          "call",
          "loving",
          "2",
          "adoption",
          "contact",
          "looking",
          "found",
          "-",
          "&",
          "cat",
          "adopt",
          "give",
          "home.",
          "dog",
          "good",
          "home",
          "please"
         ],
         "yaxis": "y1"
        },
        {
         "marker": {
          "color": "blue"
         },
         "orientation": "h",
         "showlegend": false,
         "type": "bar",
         "x": [
          371,
          376,
          376,
          378,
          383,
          383,
          384,
          387,
          388,
          390,
          420,
          421,
          436,
          447,
          460,
          461,
          478,
          479,
          494,
          501,
          513,
          515,
          517,
          524,
          529,
          542,
          552,
          554,
          556,
          582,
          601,
          607,
          609,
          619,
          625,
          668,
          673,
          675,
          680,
          681,
          714,
          723,
          725,
          740,
          799,
          808,
          955,
          974,
          1073,
          1525
         ],
         "xaxis": "x2",
         "y": [
          "cute",
          "find",
          "food",
          "cats",
          "get",
          "puppies",
          "house",
          "provide",
          "around",
          ".",
          "time",
          "playful",
          "little",
          "kittens",
          "3",
          "months",
          "interested",
          "kitten",
          "old",
          "keep",
          "loves",
          "would",
          "one",
          "owner",
          "need",
          "call",
          "new",
          "-",
          "rescued",
          "home.",
          "loving",
          "adopter",
          "love",
          "take",
          "looking",
          "adopt",
          "give",
          "like",
          "adoption",
          "contact",
          "2",
          "must",
          "found",
          "dog",
          "care",
          "&",
          "good",
          "home",
          "cat",
          "please"
         ],
         "yaxis": "y2"
        }
       ],
       "layout": {
        "annotations": [
         {
          "font": {
           "size": 16
          },
          "showarrow": false,
          "text": "Frequent words of sincere questions",
          "x": 0.225,
          "xanchor": "center",
          "xref": "paper",
          "y": 1,
          "yanchor": "bottom",
          "yref": "paper"
         },
         {
          "font": {
           "size": 16
          },
          "showarrow": false,
          "text": "Frequent words of insincere questions",
          "x": 0.775,
          "xanchor": "center",
          "xref": "paper",
          "y": 1,
          "yanchor": "bottom",
          "yref": "paper"
         }
        ],
        "height": 1200,
        "paper_bgcolor": "rgb(233,233,233)",
        "title": "Word Count Plots",
        "width": 900,
        "xaxis1": {
         "anchor": "y1",
         "domain": [
          0,
          0.45
         ]
        },
        "xaxis2": {
         "anchor": "y2",
         "domain": [
          0.55,
          1
         ]
        },
        "yaxis1": {
         "anchor": "x1",
         "domain": [
          0,
          1
         ]
        },
        "yaxis2": {
         "anchor": "x2",
         "domain": [
          0,
          1
         ]
        }
       }
      },
      "text/html": [
       "<div id=\"1f53511d-1cfe-4d12-888e-de25d799882c\" style=\"height: 1200px; width: 900px;\" class=\"plotly-graph-div\"></div><script type=\"text/javascript\">require([\"plotly\"], function(Plotly) { window.PLOTLYENV=window.PLOTLYENV || {};window.PLOTLYENV.BASE_URL=\"https://plot.ly\";Plotly.newPlot(\"1f53511d-1cfe-4d12-888e-de25d799882c\", [{\"type\": \"bar\", \"y\": [\"time\", \"house\", \"around\", \"healthy\", \"adopter\", \"friendly\", \"cats\", \"puppies\", \"cute\", \"active\", \"keep\", \"kittens\", \"find\", \"old\", \"playful\", \"owner\", \"months\", \"need\", \"must\", \"3\", \"little\", \"puppy\", \"loves\", \"kitten\", \"would\", \"interested\", \"new\", \"rescued\", \"like\", \"one\", \"take\", \"care\", \"love\", \"call\", \"loving\", \"2\", \"adoption\", \"contact\", \"looking\", \"found\", \"-\", \"&\", \"cat\", \"adopt\", \"give\", \"home.\", \"dog\", \"good\", \"home\", \"please\"], \"x\": [1310, 1321, 1377, 1389, 1395, 1397, 1402, 1409, 1461, 1465, 1517, 1522, 1545, 1580, 1602, 1627, 1659, 1667, 1673, 1692, 1705, 1705, 1755, 1795, 1838, 1933, 2019, 2038, 2047, 2132, 2165, 2185, 2268, 2269, 2295, 2316, 2335, 2606, 2705, 2738, 2738, 2830, 2831, 2870, 2884, 2893, 2917, 3428, 3782, 5386], \"showlegend\": false, \"orientation\": \"h\", \"marker\": {\"color\": \"blue\"}, \"xaxis\": \"x1\", \"yaxis\": \"y1\"}, {\"type\": \"bar\", \"y\": [\"cute\", \"find\", \"food\", \"cats\", \"get\", \"puppies\", \"house\", \"provide\", \"around\", \".\", \"time\", \"playful\", \"little\", \"kittens\", \"3\", \"months\", \"interested\", \"kitten\", \"old\", \"keep\", \"loves\", \"would\", \"one\", \"owner\", \"need\", \"call\", \"new\", \"-\", \"rescued\", \"home.\", \"loving\", \"adopter\", \"love\", \"take\", \"looking\", \"adopt\", \"give\", \"like\", \"adoption\", \"contact\", \"2\", \"must\", \"found\", \"dog\", \"care\", \"&\", \"good\", \"home\", \"cat\", \"please\"], \"x\": [371, 376, 376, 378, 383, 383, 384, 387, 388, 390, 420, 421, 436, 447, 460, 461, 478, 479, 494, 501, 513, 515, 517, 524, 529, 542, 552, 554, 556, 582, 601, 607, 609, 619, 625, 668, 673, 675, 680, 681, 714, 723, 725, 740, 799, 808, 955, 974, 1073, 1525], \"showlegend\": false, \"orientation\": \"h\", \"marker\": {\"color\": \"blue\"}, \"xaxis\": \"x2\", \"yaxis\": \"y2\"}], {\"xaxis1\": {\"domain\": [0.0, 0.45], \"anchor\": \"y1\"}, \"yaxis1\": {\"domain\": [0.0, 1.0], \"anchor\": \"x1\"}, \"xaxis2\": {\"domain\": [0.55, 1.0], \"anchor\": \"y2\"}, \"yaxis2\": {\"domain\": [0.0, 1.0], \"anchor\": \"x2\"}, \"annotations\": [{\"y\": 1.0, \"xref\": \"paper\", \"x\": 0.225, \"yref\": \"paper\", \"text\": \"Frequent words of sincere questions\", \"showarrow\": false, \"font\": {\"size\": 16}, \"xanchor\": \"center\", \"yanchor\": \"bottom\"}, {\"y\": 1.0, \"xref\": \"paper\", \"x\": 0.775, \"yref\": \"paper\", \"text\": \"Frequent words of insincere questions\", \"showarrow\": false, \"font\": {\"size\": 16}, \"xanchor\": \"center\", \"yanchor\": \"bottom\"}], \"height\": 1200, \"width\": 900, \"paper_bgcolor\": \"rgb(233,233,233)\", \"title\": \"Word Count Plots\"}, {\"showLink\": true, \"linkText\": \"Export to plot.ly\"})});</script>"
      ],
      "text/vnd.plotly.v1+html": [
       "<div id=\"1f53511d-1cfe-4d12-888e-de25d799882c\" style=\"height: 1200px; width: 900px;\" class=\"plotly-graph-div\"></div><script type=\"text/javascript\">require([\"plotly\"], function(Plotly) { window.PLOTLYENV=window.PLOTLYENV || {};window.PLOTLYENV.BASE_URL=\"https://plot.ly\";Plotly.newPlot(\"1f53511d-1cfe-4d12-888e-de25d799882c\", [{\"type\": \"bar\", \"y\": [\"time\", \"house\", \"around\", \"healthy\", \"adopter\", \"friendly\", \"cats\", \"puppies\", \"cute\", \"active\", \"keep\", \"kittens\", \"find\", \"old\", \"playful\", \"owner\", \"months\", \"need\", \"must\", \"3\", \"little\", \"puppy\", \"loves\", \"kitten\", \"would\", \"interested\", \"new\", \"rescued\", \"like\", \"one\", \"take\", \"care\", \"love\", \"call\", \"loving\", \"2\", \"adoption\", \"contact\", \"looking\", \"found\", \"-\", \"&\", \"cat\", \"adopt\", \"give\", \"home.\", \"dog\", \"good\", \"home\", \"please\"], \"x\": [1310, 1321, 1377, 1389, 1395, 1397, 1402, 1409, 1461, 1465, 1517, 1522, 1545, 1580, 1602, 1627, 1659, 1667, 1673, 1692, 1705, 1705, 1755, 1795, 1838, 1933, 2019, 2038, 2047, 2132, 2165, 2185, 2268, 2269, 2295, 2316, 2335, 2606, 2705, 2738, 2738, 2830, 2831, 2870, 2884, 2893, 2917, 3428, 3782, 5386], \"showlegend\": false, \"orientation\": \"h\", \"marker\": {\"color\": \"blue\"}, \"xaxis\": \"x1\", \"yaxis\": \"y1\"}, {\"type\": \"bar\", \"y\": [\"cute\", \"find\", \"food\", \"cats\", \"get\", \"puppies\", \"house\", \"provide\", \"around\", \".\", \"time\", \"playful\", \"little\", \"kittens\", \"3\", \"months\", \"interested\", \"kitten\", \"old\", \"keep\", \"loves\", \"would\", \"one\", \"owner\", \"need\", \"call\", \"new\", \"-\", \"rescued\", \"home.\", \"loving\", \"adopter\", \"love\", \"take\", \"looking\", \"adopt\", \"give\", \"like\", \"adoption\", \"contact\", \"2\", \"must\", \"found\", \"dog\", \"care\", \"&\", \"good\", \"home\", \"cat\", \"please\"], \"x\": [371, 376, 376, 378, 383, 383, 384, 387, 388, 390, 420, 421, 436, 447, 460, 461, 478, 479, 494, 501, 513, 515, 517, 524, 529, 542, 552, 554, 556, 582, 601, 607, 609, 619, 625, 668, 673, 675, 680, 681, 714, 723, 725, 740, 799, 808, 955, 974, 1073, 1525], \"showlegend\": false, \"orientation\": \"h\", \"marker\": {\"color\": \"blue\"}, \"xaxis\": \"x2\", \"yaxis\": \"y2\"}], {\"xaxis1\": {\"domain\": [0.0, 0.45], \"anchor\": \"y1\"}, \"yaxis1\": {\"domain\": [0.0, 1.0], \"anchor\": \"x1\"}, \"xaxis2\": {\"domain\": [0.55, 1.0], \"anchor\": \"y2\"}, \"yaxis2\": {\"domain\": [0.0, 1.0], \"anchor\": \"x2\"}, \"annotations\": [{\"y\": 1.0, \"xref\": \"paper\", \"x\": 0.225, \"yref\": \"paper\", \"text\": \"Frequent words of sincere questions\", \"showarrow\": false, \"font\": {\"size\": 16}, \"xanchor\": \"center\", \"yanchor\": \"bottom\"}, {\"y\": 1.0, \"xref\": \"paper\", \"x\": 0.775, \"yref\": \"paper\", \"text\": \"Frequent words of insincere questions\", \"showarrow\": false, \"font\": {\"size\": 16}, \"xanchor\": \"center\", \"yanchor\": \"bottom\"}], \"height\": 1200, \"width\": 900, \"paper_bgcolor\": \"rgb(233,233,233)\", \"title\": \"Word Count Plots\"}, {\"showLink\": true, \"linkText\": \"Export to plot.ly\"})});</script>"
      ]
     },
     "metadata": {},
     "output_type": "display_data"
    }
   ],
   "source": [
    "import plotly.graph_objs as go\n",
    "from plotly import tools\n",
    "import plotly.offline as py\n",
    "py.init_notebook_mode(connected=True)\n",
    "from collections import defaultdict\n",
    "from nltk.corpus import stopwords\n",
    "eng_stopwords = set(stopwords.words(\"english\"))\n",
    "\n",
    "## custom function for ngram generation ##\n",
    "def generate_ngrams(text, n_gram=1):\n",
    "    token = [token for token in str(text).lower().split(\" \") if token != \"\" and token not in eng_stopwords]\n",
    "    ngrams = zip(*[token[i:] for i in range(n_gram)])\n",
    "    return [\" \".join(ngram) for ngram in ngrams]\n",
    "\n",
    "## custom function for horizontal bar chart ##\n",
    "def horizontal_bar_chart(df, color):\n",
    "    trace = go.Bar(\n",
    "        y=df[\"word\"].values[::-1],\n",
    "        x=df[\"wordcount\"].values[::-1],\n",
    "        showlegend=False,\n",
    "        orientation = 'h',\n",
    "        marker=dict(\n",
    "            color=color,\n",
    "        ),\n",
    "    )\n",
    "    return trace\n",
    "\n",
    "## Get the bar chart from sincere questions ##\n",
    "freq_dict = defaultdict(int)\n",
    "for sent in df[\"Description\"]:\n",
    "    for word in generate_ngrams(sent):\n",
    "        freq_dict[word] += 1\n",
    "fd_sorted = pd.DataFrame(sorted(freq_dict.items(), key=lambda x: x[1])[::-1])\n",
    "fd_sorted.columns = [\"word\", \"wordcount\"]\n",
    "trace0 = horizontal_bar_chart(fd_sorted.head(50), 'blue')\n",
    "\n",
    "## Get the bar chart from insincere questions ##\n",
    "freq_dict = defaultdict(int)\n",
    "for sent in df_test[\"Description\"]:\n",
    "    for word in generate_ngrams(sent):\n",
    "        freq_dict[word] += 1\n",
    "fd_sorted = pd.DataFrame(sorted(freq_dict.items(), key=lambda x: x[1])[::-1])\n",
    "fd_sorted.columns = [\"word\", \"wordcount\"]\n",
    "trace1 = horizontal_bar_chart(fd_sorted.head(50), 'blue')\n",
    "\n",
    "# Creating two subplots\n",
    "fig = tools.make_subplots(rows=1, cols=2, vertical_spacing=0.04,\n",
    "                          subplot_titles=[\"Frequent words of sincere questions\", \n",
    "                                          \"Frequent words of insincere questions\"])\n",
    "fig.append_trace(trace0, 1, 1)\n",
    "fig.append_trace(trace1, 1, 2)\n",
    "fig['layout'].update(height=1200, width=900, paper_bgcolor='rgb(233,233,233)', title=\"Word Count Plots\")\n",
    "py.iplot(fig, filename='word-plots')\n",
    "\n",
    "#plt.figure(figsize=(10,16))\n",
    "#sns.barplot(x=\"ngram_count\", y=\"ngram\", data=fd_sorted.loc[:50,:], color=\"b\")\n",
    "#plt.title(\"Frequent words for Insincere Questions\", fontsize=16)\n",
    "#plt.show()"
   ]
  },
  {
   "cell_type": "code",
   "execution_count": null,
   "metadata": {},
   "outputs": [],
   "source": []
  }
 ],
 "metadata": {
  "kernelspec": {
   "display_name": "Python 3",
   "language": "python",
   "name": "python3"
  },
  "language_info": {
   "codemirror_mode": {
    "name": "ipython",
    "version": 3
   },
   "file_extension": ".py",
   "mimetype": "text/x-python",
   "name": "python",
   "nbconvert_exporter": "python",
   "pygments_lexer": "ipython3",
   "version": "3.6.5"
  }
 },
 "nbformat": 4,
 "nbformat_minor": 2
}
