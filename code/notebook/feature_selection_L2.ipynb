{
 "cells": [
  {
   "cell_type": "code",
   "execution_count": 5,
   "metadata": {},
   "outputs": [],
   "source": [
    "import feather\n",
    "import scipy as sp\n",
    "import numpy as np\n",
    "import pandas as pd\n",
    "import lightgbm as lgb\n",
    "\n",
    "from collections import Counter\n",
    "from functools import partial\n",
    "from math import sqrt\n",
    "\n",
    "from sklearn.linear_model import Ridge\n",
    "from sklearn.metrics import cohen_kappa_score, mean_squared_error\n",
    "from sklearn.metrics import confusion_matrix as sk_cmatrix\n",
    "from sklearn.model_selection import StratifiedKFold, GroupKFold\n",
    "\n",
    "import matplotlib.pyplot as plt\n",
    "import seaborn as sns\n",
    "\n",
    "def get_score(y_true, y_pred):\n",
    "    return cohen_kappa_score(y_true, y_pred, weights='quadratic')\n",
    "\n",
    "def get_y():\n",
    "    return pd.read_csv('../input/petfinder-adoption-prediction/train/train.csv', usecols=[target]).values.flatten()\n",
    "    \n",
    "def run_model(X_train, y_train, X_valid, y_valid,\n",
    "            categorical_features, numerical_features,\n",
    "            predictors, maxvalue_dict, fold_id):\n",
    "    \n",
    "    model = Ridge()\n",
    "    model.fit(X_train, y_train)\n",
    "    \n",
    "    # validation score\n",
    "    y_pred_valid = model.predict(X_valid)\n",
    "\n",
    "    # feature importances\n",
    "    importances = pd.DataFrame()\n",
    "    importances['feature'] = predictors\n",
    "    importances['gain'] = model.coef_\n",
    "    importances['fold'] = fold_id\n",
    "\n",
    "    return y_pred_valid, importances\n",
    " \n",
    "def plot_mean_feature_importances(feature_importances, max_num=50, importance_type='gain', path=None):\n",
    "    mean_gain = feature_importances[[importance_type, 'feature']].groupby('feature').mean()\n",
    "    feature_importances['mean_' + importance_type] = feature_importances['feature'].map(mean_gain[importance_type])\n",
    "\n",
    "    if path is not None:\n",
    "        data = feature_importances.sort_values('mean_'+importance_type, ascending=False).iloc[:max_num, :]\n",
    "        plt.clf()\n",
    "        plt.figure(figsize=(16, 8))\n",
    "        sns.barplot(x=importance_type, y='feature', data=data)\n",
    "        plt.tight_layout()\n",
    "        plt.savefig(path)\n",
    "    \n",
    "    return feature_importances\n",
    "\n",
    "def to_bins(x, borders):\n",
    "    for i in range(len(borders)):\n",
    "        if x <= borders[i]:\n",
    "            return i\n",
    "    return len(borders)\n",
    "\n",
    "class OptimizedRounder(object):\n",
    "    def __init__(self):\n",
    "        self.coef_ = 0\n",
    "\n",
    "    def _loss(self, coef, X, y, idx):\n",
    "        X_p = np.array([to_bins(pred, coef) for pred in X])\n",
    "        ll = -get_score(y, X_p)\n",
    "        return ll\n",
    "\n",
    "    def fit(self, X, y):\n",
    "        coef = [1.5, 2.0, 2.5, 3.0]\n",
    "        golden1 = 0.618\n",
    "        golden2 = 1 - golden1\n",
    "        ab_start = [(1, 2), (1.5, 2.5), (2, 3), (2.5, 3.5)]\n",
    "        for it1 in range(10):\n",
    "            for idx in range(4):\n",
    "                # golden section search\n",
    "                a, b = ab_start[idx]\n",
    "                # calc losses\n",
    "                coef[idx] = a\n",
    "                la = self._loss(coef, X, y, idx)\n",
    "                coef[idx] = b\n",
    "                lb = self._loss(coef, X, y, idx)\n",
    "                for it in range(20):\n",
    "                    # choose value\n",
    "                    if la > lb:\n",
    "                        a = b - (b - a) * golden1\n",
    "                        coef[idx] = a\n",
    "                        la = self._loss(coef, X, y, idx)\n",
    "                    else:\n",
    "                        b = b - (b - a) * golden2\n",
    "                        coef[idx] = b\n",
    "                        lb = self._loss(coef, X, y, idx)\n",
    "        self.coef_ = {'x': coef}\n",
    "\n",
    "    def predict(self, X, coef):\n",
    "        X_p = np.array([to_bins(pred, coef) for pred in X])\n",
    "        return X_p\n",
    "\n",
    "    def coefficients(self):\n",
    "        return self.coef_['x']"
   ]
  },
  {
   "cell_type": "code",
   "execution_count": 6,
   "metadata": {},
   "outputs": [],
   "source": [
    "target = 'AdoptionSpeed'\n",
    "len_train = 14993\n",
    "len_test = 3948\n",
    "    \n",
    "    \n",
    "# ===============\n",
    "# Params\n",
    "# ===============\n",
    "seed = 777\n",
    "n_splits = 5\n",
    "np.random.seed(seed)\n",
    "\n",
    "# feature engineering\n",
    "n_components = 5\n",
    "img_size = 256\n",
    "batch_size = 256\n",
    "\n",
    "# model\n",
    "MODEL_PARAMS = {\n",
    "    'task': 'train',\n",
    "    'boosting_type': 'gbdt',\n",
    "    'objective': 'regression',\n",
    "    'metric': 'rmse',\n",
    "    'learning_rate': 0.01,\n",
    "    'num_leaves': 63,\n",
    "    'subsample': 0.9,\n",
    "    'subsample_freq': 1,\n",
    "    #'colsample_bytree': 0.6,\n",
    "    'max_depth': 9,\n",
    "    'max_bin': 127,\n",
    "    'reg_alpha': 0.11,\n",
    "    'reg_lambda': 0.01,\n",
    "    'min_child_weight': 0.2,\n",
    "    'min_child_samples': 20,\n",
    "    'min_gain_to_split': 0.02,\n",
    "    'min_data_in_bin': 3,\n",
    "    'bin_construct_sample_cnt': 5000,\n",
    "    'cat_l2': 10,\n",
    "    'verbose': -1,\n",
    "    'nthread': 16,\n",
    "    'seed': 777,\n",
    "}\n",
    "FIT_PARAMS = {\n",
    "    'num_boost_round': 5000,\n",
    "    'early_stopping_rounds': 100,\n",
    "    'verbose_eval': 10000,\n",
    "}\n",
    "\n",
    "# define\n",
    "maxvalue_dict = {}\n",
    "categorical_features = [\n",
    "     'Breed1',\n",
    "     'Breed2',\n",
    "     'Color1',\n",
    "     'Color2',\n",
    "     'Color3',\n",
    "     'Dewormed',\n",
    "     'FurLength',\n",
    "     'Gender',\n",
    "     'Health',\n",
    "     'MaturitySize',\n",
    "     'State',\n",
    "     'Sterilized',\n",
    "     'Type',\n",
    "     'Vaccinated',\n",
    "     'Type_main_breed',\n",
    "     'BreedName_main_breed',\n",
    "     'Type_second_breed',\n",
    "     'BreedName_second_breed',\n",
    "]\n",
    "numerical_features = []\n",
    "text_features = ['Name', 'Description']\n",
    "remove = ['index', 'seq_text', 'PetID', 'Name', 'Description', 'RescuerID', 'StateName', 'annots_top_desc']"
   ]
  },
  {
   "cell_type": "code",
   "execution_count": 8,
   "metadata": {},
   "outputs": [
    {
     "name": "stderr",
     "output_type": "stream",
     "text": [
      "/opt/conda/lib/python3.6/site-packages/sklearn/utils/extmath.py:771: RuntimeWarning: invalid value encountered in true_divide\n",
      "  updated_mean = (last_sum + new_sum) / updated_sample_count\n",
      "/opt/conda/lib/python3.6/site-packages/sklearn/utils/extmath.py:776: RuntimeWarning: Degrees of freedom <= 0 for slice.\n",
      "  new_unnormalized_variance = np.nanvar(X, axis=0) * new_sample_count\n"
     ]
    }
   ],
   "source": [
    "from sklearn.preprocessing import StandardScaler, MinMaxScaler, LabelEncoder\n",
    "\n",
    "train = feather.read_dataframe('X_train460.feather')\n",
    "n_train = len(train)\n",
    "\n",
    "categorical_features = list(set(categorical_features) - set(remove))\n",
    "numerical_features = list(set(train.columns) - set(categorical_features + [target] + remove))\n",
    "predictors = categorical_features + numerical_features\n",
    "train = train.loc[:, ~train.columns.duplicated()]\n",
    "\n",
    "for c in categorical_features:\n",
    "    train[c] = LabelEncoder().fit_transform(train[c])\n",
    "train.replace(np.inf, np.nan, inplace=True)\n",
    "train.replace(-np.inf, np.nan, inplace=True)\n",
    "train[numerical_features] = StandardScaler().fit_transform(train[numerical_features].rank())\n",
    "train.fillna(0, inplace=True)"
   ]
  },
  {
   "cell_type": "code",
   "execution_count": 15,
   "metadata": {},
   "outputs": [],
   "source": [
    "MODEL_PARAMS = {\n",
    "    'task': 'train',\n",
    "    'boosting_type': 'gbdt',\n",
    "    'objective': 'regression',\n",
    "    'metric': 'rmse',\n",
    "    'learning_rate': 0.01,\n",
    "    'num_leaves': 31, #no 15\n",
    "    'subsample': 0.9,\n",
    "    'subsample_freq': 1,\n",
    "    #'colsample_bytree': 0.6,\n",
    "    'max_depth': 9, #no 7\n",
    "    'max_bin': 127, #no63, 255\n",
    "    'reg_alpha': 0.5, #no 1.0\n",
    "    'reg_lambda': 0.01, #no0.5\n",
    "    'min_child_weight': 0.2, #no impact\n",
    "    'min_child_samples': 10, #no 5\n",
    "    'min_gain_to_split': 0.02,#no0.1, 0.01\n",
    "    'min_data_in_bin': 3, #no10\n",
    "    'bin_construct_sample_cnt': 5000, #no 3000, 7000\n",
    "    'cat_l2': 10, #no\n",
    "    'verbose': -1,\n",
    "    'nthread': 16,\n",
    "    'seed': 777,\n",
    "}"
   ]
  },
  {
   "cell_type": "code",
   "execution_count": 9,
   "metadata": {},
   "outputs": [
    {
     "name": "stdout",
     "output_type": "stream",
     "text": [
      "0.36787092435072966\n",
      "CPU times: user 1min 12s, sys: 48.5 s, total: 2min\n",
      "Wall time: 27.1 s\n"
     ]
    },
    {
     "data": {
      "text/plain": [
       "<Figure size 432x288 with 0 Axes>"
      ]
     },
     "metadata": {},
     "output_type": "display_data"
    },
    {
     "data": {
      "image/png": "[encoded data removed]",
      "text/plain": [
       "<Figure size 1152x576 with 1 Axes>"
      ]
     },
     "metadata": {
      "needs_background": "light"
     },
     "output_type": "display_data"
    }
   ],
   "source": [
    "%%time\n",
    "X = train.loc[:, predictors]\n",
    "y =  feather.read_dataframe('../input/X_train.feather')[\"AdoptionSpeed\"].values\n",
    "rescuer_id = pd.read_csv('../input/petfinder-adoption-prediction/train/train.csv').loc[:, 'RescuerID'].iloc[:len_train]\n",
    "\n",
    "feature_importances = pd.DataFrame()\n",
    "y_pred = np.empty(len_train,)\n",
    "y_test = []\n",
    "\n",
    "#cv = StratifiedKFold(n_splits=n_splits, shuffle=True, random_state=1337)\n",
    "#for fold_id, (train_index, valid_index) in enumerate(cv.split(range(len(X)), y)):\n",
    "cv = GroupKFold(n_splits=n_splits)\n",
    "for fold_id, (train_index, valid_index) in enumerate(cv.split(range(len(X)), y=None, groups=rescuer_id)): \n",
    "    X_train = X.loc[train_index, :]\n",
    "    X_valid = X.loc[valid_index, :]\n",
    "    y_train = y[train_index]\n",
    "    y_valid = y[valid_index]\n",
    "\n",
    "    y_pred_valid, importances = run_model(X_train, y_train, X_valid, y_valid,\n",
    "                     categorical_features, numerical_features,\n",
    "                     predictors, maxvalue_dict, fold_id)\n",
    "    y_pred[valid_index] = y_pred_valid.ravel()\n",
    "\n",
    "    feature_importances = pd.concat([feature_importances, importances], axis=0, sort=False)\n",
    "\n",
    "# plot\n",
    "feature_importances = plot_mean_feature_importances(\n",
    "                            feature_importances, \n",
    "                            max_num=50, \n",
    "                            importance_type='gain', \n",
    "                            path='gain_feature_importances.png')\n",
    "\n",
    "optR = OptimizedRounder()\n",
    "optR.fit(y_pred, y)\n",
    "coefficients = optR.coefficients()\n",
    "y_pred_opt = optR.predict(y_pred, coefficients)\n",
    "score = get_score(y, y_pred_opt)\n",
    "print(score)"
   ]
  },
  {
   "cell_type": "code",
   "execution_count": 11,
   "metadata": {},
   "outputs": [
    {
     "name": "stdout",
     "output_type": "stream",
     "text": [
      "3784\n"
     ]
    },
    {
     "data": {
      "text/html": [
       "<div>\n",
       "<style scoped>\n",
       "    .dataframe tbody tr th:only-of-type {\n",
       "        vertical-align: middle;\n",
       "    }\n",
       "\n",
       "    .dataframe tbody tr th {\n",
       "        vertical-align: top;\n",
       "    }\n",
       "\n",
       "    .dataframe thead th {\n",
       "        text-align: right;\n",
       "    }\n",
       "</style>\n",
       "<table border=\"1\" class=\"dataframe\">\n",
       "  <thead>\n",
       "    <tr style=\"text-align: right;\">\n",
       "      <th></th>\n",
       "      <th>feature</th>\n",
       "      <th>gain</th>\n",
       "    </tr>\n",
       "  </thead>\n",
       "  <tbody>\n",
       "    <tr>\n",
       "      <th>3551</th>\n",
       "      <td>ratio_mean_Sterilized_groupby_State</td>\n",
       "      <td>1.119154</td>\n",
       "    </tr>\n",
       "    <tr>\n",
       "      <th>3580</th>\n",
       "      <td>ratio_median_Quantity_groupby_Type_Breed1_Breed2</td>\n",
       "      <td>0.923258</td>\n",
       "    </tr>\n",
       "    <tr>\n",
       "      <th>2234</th>\n",
       "      <td>diff_median_Quantity_groupby_Type_Breed1_Breed2</td>\n",
       "      <td>0.774560</td>\n",
       "    </tr>\n",
       "    <tr>\n",
       "      <th>3263</th>\n",
       "      <td>is_dog_or_cat_amax_mean</td>\n",
       "      <td>0.728357</td>\n",
       "    </tr>\n",
       "    <tr>\n",
       "      <th>1876</th>\n",
       "      <td>Position_median</td>\n",
       "      <td>0.706498</td>\n",
       "    </tr>\n",
       "  </tbody>\n",
       "</table>\n",
       "</div>"
      ],
      "text/plain": [
       "                                               feature      gain\n",
       "3551               ratio_mean_Sterilized_groupby_State  1.119154\n",
       "3580  ratio_median_Quantity_groupby_Type_Breed1_Breed2  0.923258\n",
       "2234   diff_median_Quantity_groupby_Type_Breed1_Breed2  0.774560\n",
       "3263                           is_dog_or_cat_amax_mean  0.728357\n",
       "1876                                   Position_median  0.706498"
      ]
     },
     "execution_count": 11,
     "metadata": {},
     "output_type": "execute_result"
    }
   ],
   "source": [
    "importance_type=\"gain\"\n",
    "feature_importances[importance_type] = abs(feature_importances[importance_type])\n",
    "mean_gain = feature_importances[[importance_type, 'feature']].groupby('feature').mean().reset_index()\n",
    "data = mean_gain.sort_values(importance_type, ascending=False)\n",
    "print(len(data))\n",
    "data.head()"
   ]
  },
  {
   "cell_type": "code",
   "execution_count": 23,
   "metadata": {
    "scrolled": true
   },
   "outputs": [
    {
     "data": {
      "text/plain": [
       "['ratio_mean_Sterilized_groupby_State',\n",
       " 'ratio_median_Quantity_groupby_Type_Breed1_Breed2',\n",
       " 'diff_median_Quantity_groupby_Type_Breed1_Breed2',\n",
       " 'is_dog_or_cat_amax_mean',\n",
       " 'Position_median',\n",
       " 'ratio_var_Fee_groupby_MaturitySize',\n",
       " 'n_faces_max',\n",
       " 'diff_min_Quantity_groupby_RescuerID_State',\n",
       " 'diff_min_Quantity_groupby_RescuerID',\n",
       " 'sum_Sterilized_groupby_RescuerID_Type',\n",
       " 'ratio_mean_Quantity_groupby_RescuerID_Type',\n",
       " 'diff_mean_Quantity_groupby_RescuerID_Type',\n",
       " 'ratio_min_Sterilized_groupby_Type_Breed1',\n",
       " 'ratio_max_Fee_groupby_RescuerID_State',\n",
       " 'ratio_max_Fee_groupby_RescuerID',\n",
       " 'ratio_min_Age_groupby_MaturitySize',\n",
       " 'ratio_max_Fee_groupby_State',\n",
       " 'ratio_min_Quantity_groupby_RescuerID_State',\n",
       " 'ratio_min_Quantity_groupby_RescuerID',\n",
       " 'n_text_annotations_mean',\n",
       " 'ratio_var_Sterilized_groupby_State',\n",
       " 'diff_min_Sterilized_groupby_RescuerID_State',\n",
       " 'diff_min_Sterilized_groupby_RescuerID',\n",
       " 'diff_mean_Quantity_groupby_Type_Breed1',\n",
       " 'color_blue_score_sum_max',\n",
       " 'Position_min',\n",
       " 'diff_sum_Fee_groupby_State',\n",
       " 'min_Sterilized_groupby_RescuerID_State',\n",
       " 'min_Sterilized_groupby_RescuerID',\n",
       " 'ratio_mean_Age_groupby_MaturitySize',\n",
       " 'diff_max_Sterilized_groupby_Type_Breed1',\n",
       " 'dog_cat_scores_var_var',\n",
       " 'dog_cat_topics_var_var',\n",
       " 'sum_MaturitySize_groupby_RescuerID_Type',\n",
       " 'ratio_mean_Fee_groupby_MaturitySize',\n",
       " 'Positive_min',\n",
       " 'dog_cat_topics_var_max',\n",
       " 'dog_cat_scores_var_max',\n",
       " 'CountLDA5_BreedName_second_breed_Breed1_1',\n",
       " 'CountLDA5_BreedName_main_breed_Type_second_breed_1',\n",
       " 'ratio_mean_Fee_groupby_State',\n",
       " 'CountLDA5_BreedName_main_breed_Gender_3',\n",
       " 'ratio_count_Age_groupby_RescuerID_Type',\n",
       " 'color_blue_score_sum_mean',\n",
       " 'color_blue_score_mean_max',\n",
       " 'ratio_max_Fee_groupby_Type_Breed1',\n",
       " 'ratio_min_Quantity_groupby_RescuerID_Type',\n",
       " 'diff_median_Age_groupby_State',\n",
       " 'CountSVD5_Breed1_BreedName_main_breed_0',\n",
       " 'max_Age_groupby_Type_Breed1',\n",
       " 'diff_count_Sterilized_groupby_RescuerID_Type',\n",
       " 'Intelligence',\n",
       " 'Occurrences_tracker_min',\n",
       " 'ratio_min_Fee_groupby_RescuerID_Type',\n",
       " 'ratio_sum_Fee_groupby_RescuerID_Type',\n",
       " 'Tendency to Vocalize_second_breed',\n",
       " 'CountLDA5_BreedName_main_breed_Color2_2',\n",
       " 'diff_sum_Quantity_groupby_MaturitySize',\n",
       " 'ratio_max_Sterilized_groupby_Type_Breed1_Breed2',\n",
       " 'diff_sum_Fee_groupby_Type_Breed1_Breed2',\n",
       " 'color_blue_score_mean_mean',\n",
       " 'max_Sterilized_groupby_RescuerID_Type',\n",
       " 'ratio_mean_Quantity_groupby_Type_Breed1',\n",
       " 'ratio_median_Quantity_groupby_RescuerID_State',\n",
       " 'ratio_median_Quantity_groupby_RescuerID',\n",
       " 'CountLDA5_BreedName_main_breed_Breed2_1',\n",
       " 'CountLDA5_Breed1_Breed2_1',\n",
       " 'Occurrences_tracker_median',\n",
       " 'CountLDA5_Breed1_Gender_3',\n",
       " 'CountLDA5_Breed1_Color2_3',\n",
       " 'Occurrences_tracker_std',\n",
       " 'ratio_count_Quantity_groupby_RescuerID_Type',\n",
       " 'diff_median_Quantity_groupby_RescuerID_State',\n",
       " 'diff_median_Quantity_groupby_RescuerID',\n",
       " 'min_MaturitySize_groupby_RescuerID_Type',\n",
       " 'ratio_min_Fee_groupby_Type_Breed1_Breed2',\n",
       " 'diff_sum_Age_groupby_RescuerID_Type',\n",
       " 'diff_mean_Sterilized_groupby_State',\n",
       " 'Affectionate with Family',\n",
       " 'n_text_annotations_min',\n",
       " 'CountLDA5_BreedName_second_breed_Color2_2',\n",
       " 'CountLDA5_BreedName_main_breed_Sterilized_4',\n",
       " 'color_red_score_mean_max',\n",
       " 'CountLDA5_BreedName_second_breed_Breed1_2',\n",
       " 'diff_sum_MaturitySize_groupby_Type_Breed1',\n",
       " 'color_green_score_sum_mean',\n",
       " 'CountLDA5_Breed1_Color2_0',\n",
       " 'mean_Sterilized_groupby_RescuerID_Type',\n",
       " 'Neutral_mean',\n",
       " 'color_green_score_sum_max',\n",
       " 'n_faces_mean',\n",
       " 'max_Quantity_groupby_RescuerID_Type',\n",
       " 'ratio_max_Age_groupby_RescuerID_Type',\n",
       " 'ratio_sum_Sterilized_groupby_RescuerID_Type',\n",
       " 'ratio_mean_Fee_groupby_Type_Breed1',\n",
       " 'max_Fee_groupby_RescuerID_Type',\n",
       " 'ratio_count_Fee_groupby_RescuerID_Type',\n",
       " 'CountSVD5_Breed1_BreedName_main_breed_1',\n",
       " 'diff_min_MaturitySize_groupby_RescuerID_Type',\n",
       " 'sum_Age_groupby_RescuerID_Type']"
      ]
     },
     "execution_count": 23,
     "metadata": {},
     "output_type": "execute_result"
    }
   ],
   "source": [
    "list(data.feature.values)[:100]"
   ]
  },
  {
   "cell_type": "code",
   "execution_count": 18,
   "metadata": {},
   "outputs": [],
   "source": [
    "train = feather.read_dataframe('X_train460.feather')\n",
    "n_train = len(train)"
   ]
  },
  {
   "cell_type": "code",
   "execution_count": 24,
   "metadata": {},
   "outputs": [
    {
     "name": "stderr",
     "output_type": "stream",
     "text": [
      "/opt/conda/lib/python3.6/site-packages/lightgbm/basic.py:1205: UserWarning: Using categorical_feature in Dataset.\n",
      "  warnings.warn('Using categorical_feature in Dataset.')\n"
     ]
    },
    {
     "name": "stdout",
     "output_type": "stream",
     "text": [
      "Training until validation scores don't improve for 100 rounds.\n",
      "Early stopping, best iteration is:\n",
      "[810]\tvalid's rmse: 1.03594\n"
     ]
    },
    {
     "name": "stderr",
     "output_type": "stream",
     "text": [
      "/opt/conda/lib/python3.6/site-packages/lightgbm/basic.py:1205: UserWarning: Using categorical_feature in Dataset.\n",
      "  warnings.warn('Using categorical_feature in Dataset.')\n"
     ]
    },
    {
     "name": "stdout",
     "output_type": "stream",
     "text": [
      "Training until validation scores don't improve for 100 rounds.\n",
      "Early stopping, best iteration is:\n",
      "[899]\tvalid's rmse: 1.05848\n"
     ]
    },
    {
     "name": "stderr",
     "output_type": "stream",
     "text": [
      "/opt/conda/lib/python3.6/site-packages/lightgbm/basic.py:1205: UserWarning: Using categorical_feature in Dataset.\n",
      "  warnings.warn('Using categorical_feature in Dataset.')\n"
     ]
    },
    {
     "name": "stdout",
     "output_type": "stream",
     "text": [
      "Training until validation scores don't improve for 100 rounds.\n",
      "Early stopping, best iteration is:\n",
      "[589]\tvalid's rmse: 1.04733\n"
     ]
    },
    {
     "name": "stderr",
     "output_type": "stream",
     "text": [
      "/opt/conda/lib/python3.6/site-packages/lightgbm/basic.py:1205: UserWarning: Using categorical_feature in Dataset.\n",
      "  warnings.warn('Using categorical_feature in Dataset.')\n"
     ]
    },
    {
     "name": "stdout",
     "output_type": "stream",
     "text": [
      "Training until validation scores don't improve for 100 rounds.\n",
      "Early stopping, best iteration is:\n",
      "[808]\tvalid's rmse: 1.05646\n"
     ]
    },
    {
     "name": "stderr",
     "output_type": "stream",
     "text": [
      "/opt/conda/lib/python3.6/site-packages/lightgbm/basic.py:1205: UserWarning: Using categorical_feature in Dataset.\n",
      "  warnings.warn('Using categorical_feature in Dataset.')\n"
     ]
    },
    {
     "name": "stdout",
     "output_type": "stream",
     "text": [
      "Training until validation scores don't improve for 100 rounds.\n",
      "Early stopping, best iteration is:\n",
      "[611]\tvalid's rmse: 1.06821\n",
      "0.4303628964528613\n",
      "CPU times: user 16min 53s, sys: 1.45 s, total: 16min 55s\n",
      "Wall time: 1min 22s\n"
     ]
    },
    {
     "data": {
      "text/plain": [
       "<Figure size 432x288 with 0 Axes>"
      ]
     },
     "metadata": {},
     "output_type": "display_data"
    },
    {
     "data": {
      "image/png": "[encoded data removed]",
      "text/plain": [
       "<Figure size 1152x576 with 1 Axes>"
      ]
     },
     "metadata": {
      "needs_background": "light"
     },
     "output_type": "display_data"
    }
   ],
   "source": [
    "%%time\n",
    "\n",
    "def run_model(X_train, y_train, X_valid, y_valid,\n",
    "            categorical_features, numerical_features,\n",
    "            predictors, maxvalue_dict, fold_id):\n",
    "    train = lgb.Dataset(X_train, y_train, \n",
    "                        categorical_feature=categorical_features, \n",
    "                        feature_name=predictors)\n",
    "    valid = lgb.Dataset(X_valid, y_valid, \n",
    "                        categorical_feature=categorical_features, \n",
    "                        feature_name=predictors)\n",
    "    evals_result = {}\n",
    "    model = lgb.train(\n",
    "        MODEL_PARAMS,\n",
    "        train,\n",
    "        valid_sets=[valid],\n",
    "        valid_names=['valid'],\n",
    "        evals_result=evals_result,\n",
    "        **FIT_PARAMS\n",
    "    )\n",
    "    \n",
    "    # validation score\n",
    "    y_pred_valid = model.predict(X_valid)\n",
    "\n",
    "    # feature importances\n",
    "    importances = pd.DataFrame()\n",
    "    importances['feature'] = predictors\n",
    "    importances['gain'] = model.feature_importance(importance_type='gain')\n",
    "    importances['split'] = model.feature_importance(importance_type='split')\n",
    "    importances['fold'] = fold_id\n",
    "\n",
    "    return y_pred_valid, importances\n",
    "\n",
    "n_feats =1000\n",
    "predictors = list(data.feature[:n_feats])\n",
    "categorical_features = list(set(categorical_features) - set(remove))\n",
    "categorical_features = [c for c in categorical_features if c in predictors]\n",
    "numerical_features = list(set(predictors) - set(categorical_features + [target] + remove))\n",
    "#predictors = categorical_features + numerical_features\n",
    "\n",
    "X = train.loc[:, predictors]\n",
    "y =  feather.read_dataframe('../input/X_train.feather')[\"AdoptionSpeed\"].values\n",
    "rescuer_id = pd.read_csv('../input/petfinder-adoption-prediction/train/train.csv').loc[:, 'RescuerID'].iloc[:len_train]\n",
    "\n",
    "feature_importances = pd.DataFrame()\n",
    "y_pred = np.empty(len_train,)\n",
    "y_test = []\n",
    "\n",
    "#cv = StratifiedKFold(n_splits=n_splits, shuffle=True, random_state=1337)\n",
    "#for fold_id, (train_index, valid_index) in enumerate(cv.split(range(len(X)), y)):\n",
    "cv = GroupKFold(n_splits=n_splits)\n",
    "for fold_id, (train_index, valid_index) in enumerate(cv.split(range(len(X)), y=None, groups=rescuer_id)): \n",
    "    X_train = X.loc[train_index, :]\n",
    "    X_valid = X.loc[valid_index, :]\n",
    "    y_train = y[train_index]\n",
    "    y_valid = y[valid_index]\n",
    "\n",
    "    y_pred_valid, importances = run_model(X_train, y_train, X_valid, y_valid,\n",
    "                     categorical_features, numerical_features,\n",
    "                     predictors, maxvalue_dict, fold_id)\n",
    "    y_pred[valid_index] = y_pred_valid.ravel()\n",
    "\n",
    "    feature_importances = pd.concat([feature_importances, importances], axis=0, sort=False)\n",
    "\n",
    "# plot\n",
    "feature_importances = plot_mean_feature_importances(\n",
    "                            feature_importances, \n",
    "                            max_num=50, \n",
    "                            importance_type='gain', \n",
    "                            path='gain_feature_importances.png')\n",
    "\n",
    "optR = OptimizedRounder()\n",
    "optR.fit(y_pred, y)\n",
    "coefficients = optR.coefficients()\n",
    "y_pred_opt = optR.predict(y_pred, coefficients)\n",
    "score = get_score(y, y_pred_opt)\n",
    "print(score)"
   ]
  },
  {
   "cell_type": "code",
   "execution_count": null,
   "metadata": {},
   "outputs": [],
   "source": [
    "150-0.3874458533166226\n",
    "\n",
    "all(3784)-0.449078003109212(5min46s)"
   ]
  }
 ],
 "metadata": {
  "kernelspec": {
   "display_name": "Python 3",
   "language": "python",
   "name": "python3"
  },
  "language_info": {
   "codemirror_mode": {
    "name": "ipython",
    "version": 3
   },
   "file_extension": ".py",
   "mimetype": "text/x-python",
   "name": "python",
   "nbconvert_exporter": "python",
   "pygments_lexer": "ipython3",
   "version": "3.6.3"
  }
 },
 "nbformat": 4,
 "nbformat_minor": 2
}
